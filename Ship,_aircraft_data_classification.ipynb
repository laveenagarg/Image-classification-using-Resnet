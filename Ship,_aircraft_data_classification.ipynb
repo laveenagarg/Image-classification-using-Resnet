{
  "nbformat": 4,
  "nbformat_minor": 0,
  "metadata": {
    "colab": {
      "name": "Ship, aircraft data classification.ipynb",
      "provenance": []
    },
    "kernelspec": {
      "name": "python3",
      "display_name": "Python 3"
    },
    "widgets": {
      "application/vnd.jupyter.widget-state+json": {
        "409e70502101497bbbd1ad4c49c7d7a6": {
          "model_module": "@jupyter-widgets/controls",
          "model_name": "HBoxModel",
          "state": {
            "_view_name": "HBoxView",
            "_dom_classes": [],
            "_model_name": "HBoxModel",
            "_view_module": "@jupyter-widgets/controls",
            "_model_module_version": "1.5.0",
            "_view_count": null,
            "_view_module_version": "1.5.0",
            "box_style": "",
            "layout": "IPY_MODEL_9f3357004177477fb6c13155fcb99002",
            "_model_module": "@jupyter-widgets/controls",
            "children": [
              "IPY_MODEL_f02c6ea49433429ea5aa6738a17cbfbb",
              "IPY_MODEL_b47b2aee42894a3795aeea4dfc0944f9"
            ]
          }
        },
        "9f3357004177477fb6c13155fcb99002": {
          "model_module": "@jupyter-widgets/base",
          "model_name": "LayoutModel",
          "state": {
            "_view_name": "LayoutView",
            "grid_template_rows": null,
            "right": null,
            "justify_content": null,
            "_view_module": "@jupyter-widgets/base",
            "overflow": null,
            "_model_module_version": "1.2.0",
            "_view_count": null,
            "flex_flow": null,
            "width": null,
            "min_width": null,
            "border": null,
            "align_items": null,
            "bottom": null,
            "_model_module": "@jupyter-widgets/base",
            "top": null,
            "grid_column": null,
            "overflow_y": null,
            "overflow_x": null,
            "grid_auto_flow": null,
            "grid_area": null,
            "grid_template_columns": null,
            "flex": null,
            "_model_name": "LayoutModel",
            "justify_items": null,
            "grid_row": null,
            "max_height": null,
            "align_content": null,
            "visibility": null,
            "align_self": null,
            "height": null,
            "min_height": null,
            "padding": null,
            "grid_auto_rows": null,
            "grid_gap": null,
            "max_width": null,
            "order": null,
            "_view_module_version": "1.2.0",
            "grid_template_areas": null,
            "object_position": null,
            "object_fit": null,
            "grid_auto_columns": null,
            "margin": null,
            "display": null,
            "left": null
          }
        },
        "f02c6ea49433429ea5aa6738a17cbfbb": {
          "model_module": "@jupyter-widgets/controls",
          "model_name": "FloatProgressModel",
          "state": {
            "_view_name": "ProgressView",
            "style": "IPY_MODEL_06d06c7884f74d9f9b972f5aa6bfbef1",
            "_dom_classes": [],
            "description": "100%",
            "_model_name": "FloatProgressModel",
            "bar_style": "success",
            "max": 500,
            "_view_module": "@jupyter-widgets/controls",
            "_model_module_version": "1.5.0",
            "value": 500,
            "_view_count": null,
            "_view_module_version": "1.5.0",
            "orientation": "horizontal",
            "min": 0,
            "description_tooltip": null,
            "_model_module": "@jupyter-widgets/controls",
            "layout": "IPY_MODEL_b147b80d91ce474b8d63e6cbe6a2ee7f"
          }
        },
        "b47b2aee42894a3795aeea4dfc0944f9": {
          "model_module": "@jupyter-widgets/controls",
          "model_name": "HTMLModel",
          "state": {
            "_view_name": "HTMLView",
            "style": "IPY_MODEL_159e73c62bfe4abb9518df5677931a0c",
            "_dom_classes": [],
            "description": "",
            "_model_name": "HTMLModel",
            "placeholder": "​",
            "_view_module": "@jupyter-widgets/controls",
            "_model_module_version": "1.5.0",
            "value": " 500/500 [00:01&lt;00:00, 457.76it/s]",
            "_view_count": null,
            "_view_module_version": "1.5.0",
            "description_tooltip": null,
            "_model_module": "@jupyter-widgets/controls",
            "layout": "IPY_MODEL_ed5e2afb417a429ebfaae17e0e6a2daf"
          }
        },
        "06d06c7884f74d9f9b972f5aa6bfbef1": {
          "model_module": "@jupyter-widgets/controls",
          "model_name": "ProgressStyleModel",
          "state": {
            "_view_name": "StyleView",
            "_model_name": "ProgressStyleModel",
            "description_width": "initial",
            "_view_module": "@jupyter-widgets/base",
            "_model_module_version": "1.5.0",
            "_view_count": null,
            "_view_module_version": "1.2.0",
            "bar_color": null,
            "_model_module": "@jupyter-widgets/controls"
          }
        },
        "b147b80d91ce474b8d63e6cbe6a2ee7f": {
          "model_module": "@jupyter-widgets/base",
          "model_name": "LayoutModel",
          "state": {
            "_view_name": "LayoutView",
            "grid_template_rows": null,
            "right": null,
            "justify_content": null,
            "_view_module": "@jupyter-widgets/base",
            "overflow": null,
            "_model_module_version": "1.2.0",
            "_view_count": null,
            "flex_flow": null,
            "width": null,
            "min_width": null,
            "border": null,
            "align_items": null,
            "bottom": null,
            "_model_module": "@jupyter-widgets/base",
            "top": null,
            "grid_column": null,
            "overflow_y": null,
            "overflow_x": null,
            "grid_auto_flow": null,
            "grid_area": null,
            "grid_template_columns": null,
            "flex": null,
            "_model_name": "LayoutModel",
            "justify_items": null,
            "grid_row": null,
            "max_height": null,
            "align_content": null,
            "visibility": null,
            "align_self": null,
            "height": null,
            "min_height": null,
            "padding": null,
            "grid_auto_rows": null,
            "grid_gap": null,
            "max_width": null,
            "order": null,
            "_view_module_version": "1.2.0",
            "grid_template_areas": null,
            "object_position": null,
            "object_fit": null,
            "grid_auto_columns": null,
            "margin": null,
            "display": null,
            "left": null
          }
        },
        "159e73c62bfe4abb9518df5677931a0c": {
          "model_module": "@jupyter-widgets/controls",
          "model_name": "DescriptionStyleModel",
          "state": {
            "_view_name": "StyleView",
            "_model_name": "DescriptionStyleModel",
            "description_width": "",
            "_view_module": "@jupyter-widgets/base",
            "_model_module_version": "1.5.0",
            "_view_count": null,
            "_view_module_version": "1.2.0",
            "_model_module": "@jupyter-widgets/controls"
          }
        },
        "ed5e2afb417a429ebfaae17e0e6a2daf": {
          "model_module": "@jupyter-widgets/base",
          "model_name": "LayoutModel",
          "state": {
            "_view_name": "LayoutView",
            "grid_template_rows": null,
            "right": null,
            "justify_content": null,
            "_view_module": "@jupyter-widgets/base",
            "overflow": null,
            "_model_module_version": "1.2.0",
            "_view_count": null,
            "flex_flow": null,
            "width": null,
            "min_width": null,
            "border": null,
            "align_items": null,
            "bottom": null,
            "_model_module": "@jupyter-widgets/base",
            "top": null,
            "grid_column": null,
            "overflow_y": null,
            "overflow_x": null,
            "grid_auto_flow": null,
            "grid_area": null,
            "grid_template_columns": null,
            "flex": null,
            "_model_name": "LayoutModel",
            "justify_items": null,
            "grid_row": null,
            "max_height": null,
            "align_content": null,
            "visibility": null,
            "align_self": null,
            "height": null,
            "min_height": null,
            "padding": null,
            "grid_auto_rows": null,
            "grid_gap": null,
            "max_width": null,
            "order": null,
            "_view_module_version": "1.2.0",
            "grid_template_areas": null,
            "object_position": null,
            "object_fit": null,
            "grid_auto_columns": null,
            "margin": null,
            "display": null,
            "left": null
          }
        },
        "59cdfecb88684634bcbc9d5a05448b2d": {
          "model_module": "@jupyter-widgets/controls",
          "model_name": "HBoxModel",
          "state": {
            "_view_name": "HBoxView",
            "_dom_classes": [],
            "_model_name": "HBoxModel",
            "_view_module": "@jupyter-widgets/controls",
            "_model_module_version": "1.5.0",
            "_view_count": null,
            "_view_module_version": "1.5.0",
            "box_style": "",
            "layout": "IPY_MODEL_d88fb23d41c24affad162040aa2fb7dd",
            "_model_module": "@jupyter-widgets/controls",
            "children": [
              "IPY_MODEL_71a4ebe7b11c47fd9e62bb29faa33df3",
              "IPY_MODEL_9c519ec0091d49bda71c077dac267bdd"
            ]
          }
        },
        "d88fb23d41c24affad162040aa2fb7dd": {
          "model_module": "@jupyter-widgets/base",
          "model_name": "LayoutModel",
          "state": {
            "_view_name": "LayoutView",
            "grid_template_rows": null,
            "right": null,
            "justify_content": null,
            "_view_module": "@jupyter-widgets/base",
            "overflow": null,
            "_model_module_version": "1.2.0",
            "_view_count": null,
            "flex_flow": null,
            "width": null,
            "min_width": null,
            "border": null,
            "align_items": null,
            "bottom": null,
            "_model_module": "@jupyter-widgets/base",
            "top": null,
            "grid_column": null,
            "overflow_y": null,
            "overflow_x": null,
            "grid_auto_flow": null,
            "grid_area": null,
            "grid_template_columns": null,
            "flex": null,
            "_model_name": "LayoutModel",
            "justify_items": null,
            "grid_row": null,
            "max_height": null,
            "align_content": null,
            "visibility": null,
            "align_self": null,
            "height": null,
            "min_height": null,
            "padding": null,
            "grid_auto_rows": null,
            "grid_gap": null,
            "max_width": null,
            "order": null,
            "_view_module_version": "1.2.0",
            "grid_template_areas": null,
            "object_position": null,
            "object_fit": null,
            "grid_auto_columns": null,
            "margin": null,
            "display": null,
            "left": null
          }
        },
        "71a4ebe7b11c47fd9e62bb29faa33df3": {
          "model_module": "@jupyter-widgets/controls",
          "model_name": "FloatProgressModel",
          "state": {
            "_view_name": "ProgressView",
            "style": "IPY_MODEL_e5bae6a7dfe347d28e77f598b6123fe6",
            "_dom_classes": [],
            "description": "100%",
            "_model_name": "FloatProgressModel",
            "bar_style": "success",
            "max": 500,
            "_view_module": "@jupyter-widgets/controls",
            "_model_module_version": "1.5.0",
            "value": 500,
            "_view_count": null,
            "_view_module_version": "1.5.0",
            "orientation": "horizontal",
            "min": 0,
            "description_tooltip": null,
            "_model_module": "@jupyter-widgets/controls",
            "layout": "IPY_MODEL_884274e6a4614cf8bec6033717adc8ba"
          }
        },
        "9c519ec0091d49bda71c077dac267bdd": {
          "model_module": "@jupyter-widgets/controls",
          "model_name": "HTMLModel",
          "state": {
            "_view_name": "HTMLView",
            "style": "IPY_MODEL_0476fee3bb874eaaa8ac74adb5b86a4a",
            "_dom_classes": [],
            "description": "",
            "_model_name": "HTMLModel",
            "placeholder": "​",
            "_view_module": "@jupyter-widgets/controls",
            "_model_module_version": "1.5.0",
            "value": " 500/500 [00:35&lt;00:00, 14.22it/s]",
            "_view_count": null,
            "_view_module_version": "1.5.0",
            "description_tooltip": null,
            "_model_module": "@jupyter-widgets/controls",
            "layout": "IPY_MODEL_ca891e944e3e41618e42f980d2ed6635"
          }
        },
        "e5bae6a7dfe347d28e77f598b6123fe6": {
          "model_module": "@jupyter-widgets/controls",
          "model_name": "ProgressStyleModel",
          "state": {
            "_view_name": "StyleView",
            "_model_name": "ProgressStyleModel",
            "description_width": "initial",
            "_view_module": "@jupyter-widgets/base",
            "_model_module_version": "1.5.0",
            "_view_count": null,
            "_view_module_version": "1.2.0",
            "bar_color": null,
            "_model_module": "@jupyter-widgets/controls"
          }
        },
        "884274e6a4614cf8bec6033717adc8ba": {
          "model_module": "@jupyter-widgets/base",
          "model_name": "LayoutModel",
          "state": {
            "_view_name": "LayoutView",
            "grid_template_rows": null,
            "right": null,
            "justify_content": null,
            "_view_module": "@jupyter-widgets/base",
            "overflow": null,
            "_model_module_version": "1.2.0",
            "_view_count": null,
            "flex_flow": null,
            "width": null,
            "min_width": null,
            "border": null,
            "align_items": null,
            "bottom": null,
            "_model_module": "@jupyter-widgets/base",
            "top": null,
            "grid_column": null,
            "overflow_y": null,
            "overflow_x": null,
            "grid_auto_flow": null,
            "grid_area": null,
            "grid_template_columns": null,
            "flex": null,
            "_model_name": "LayoutModel",
            "justify_items": null,
            "grid_row": null,
            "max_height": null,
            "align_content": null,
            "visibility": null,
            "align_self": null,
            "height": null,
            "min_height": null,
            "padding": null,
            "grid_auto_rows": null,
            "grid_gap": null,
            "max_width": null,
            "order": null,
            "_view_module_version": "1.2.0",
            "grid_template_areas": null,
            "object_position": null,
            "object_fit": null,
            "grid_auto_columns": null,
            "margin": null,
            "display": null,
            "left": null
          }
        },
        "0476fee3bb874eaaa8ac74adb5b86a4a": {
          "model_module": "@jupyter-widgets/controls",
          "model_name": "DescriptionStyleModel",
          "state": {
            "_view_name": "StyleView",
            "_model_name": "DescriptionStyleModel",
            "description_width": "",
            "_view_module": "@jupyter-widgets/base",
            "_model_module_version": "1.5.0",
            "_view_count": null,
            "_view_module_version": "1.2.0",
            "_model_module": "@jupyter-widgets/controls"
          }
        },
        "ca891e944e3e41618e42f980d2ed6635": {
          "model_module": "@jupyter-widgets/base",
          "model_name": "LayoutModel",
          "state": {
            "_view_name": "LayoutView",
            "grid_template_rows": null,
            "right": null,
            "justify_content": null,
            "_view_module": "@jupyter-widgets/base",
            "overflow": null,
            "_model_module_version": "1.2.0",
            "_view_count": null,
            "flex_flow": null,
            "width": null,
            "min_width": null,
            "border": null,
            "align_items": null,
            "bottom": null,
            "_model_module": "@jupyter-widgets/base",
            "top": null,
            "grid_column": null,
            "overflow_y": null,
            "overflow_x": null,
            "grid_auto_flow": null,
            "grid_area": null,
            "grid_template_columns": null,
            "flex": null,
            "_model_name": "LayoutModel",
            "justify_items": null,
            "grid_row": null,
            "max_height": null,
            "align_content": null,
            "visibility": null,
            "align_self": null,
            "height": null,
            "min_height": null,
            "padding": null,
            "grid_auto_rows": null,
            "grid_gap": null,
            "max_width": null,
            "order": null,
            "_view_module_version": "1.2.0",
            "grid_template_areas": null,
            "object_position": null,
            "object_fit": null,
            "grid_auto_columns": null,
            "margin": null,
            "display": null,
            "left": null
          }
        },
        "7717e19cb9eb4c7bb7aae04517226535": {
          "model_module": "@jupyter-widgets/controls",
          "model_name": "HBoxModel",
          "state": {
            "_view_name": "HBoxView",
            "_dom_classes": [],
            "_model_name": "HBoxModel",
            "_view_module": "@jupyter-widgets/controls",
            "_model_module_version": "1.5.0",
            "_view_count": null,
            "_view_module_version": "1.5.0",
            "box_style": "",
            "layout": "IPY_MODEL_af8665c6ebb64270b90f5177430f5375",
            "_model_module": "@jupyter-widgets/controls",
            "children": [
              "IPY_MODEL_31d5e31283c04824b4a1f9b8d4081aeb",
              "IPY_MODEL_ffdee81941b347aeb086f62c35e71bc7"
            ]
          }
        },
        "af8665c6ebb64270b90f5177430f5375": {
          "model_module": "@jupyter-widgets/base",
          "model_name": "LayoutModel",
          "state": {
            "_view_name": "LayoutView",
            "grid_template_rows": null,
            "right": null,
            "justify_content": null,
            "_view_module": "@jupyter-widgets/base",
            "overflow": null,
            "_model_module_version": "1.2.0",
            "_view_count": null,
            "flex_flow": null,
            "width": null,
            "min_width": null,
            "border": null,
            "align_items": null,
            "bottom": null,
            "_model_module": "@jupyter-widgets/base",
            "top": null,
            "grid_column": null,
            "overflow_y": null,
            "overflow_x": null,
            "grid_auto_flow": null,
            "grid_area": null,
            "grid_template_columns": null,
            "flex": null,
            "_model_name": "LayoutModel",
            "justify_items": null,
            "grid_row": null,
            "max_height": null,
            "align_content": null,
            "visibility": null,
            "align_self": null,
            "height": null,
            "min_height": null,
            "padding": null,
            "grid_auto_rows": null,
            "grid_gap": null,
            "max_width": null,
            "order": null,
            "_view_module_version": "1.2.0",
            "grid_template_areas": null,
            "object_position": null,
            "object_fit": null,
            "grid_auto_columns": null,
            "margin": null,
            "display": null,
            "left": null
          }
        },
        "31d5e31283c04824b4a1f9b8d4081aeb": {
          "model_module": "@jupyter-widgets/controls",
          "model_name": "FloatProgressModel",
          "state": {
            "_view_name": "ProgressView",
            "style": "IPY_MODEL_4fc47bea65d5457f907531c9f4558c2f",
            "_dom_classes": [],
            "description": "100%",
            "_model_name": "FloatProgressModel",
            "bar_style": "success",
            "max": 500,
            "_view_module": "@jupyter-widgets/controls",
            "_model_module_version": "1.5.0",
            "value": 500,
            "_view_count": null,
            "_view_module_version": "1.5.0",
            "orientation": "horizontal",
            "min": 0,
            "description_tooltip": null,
            "_model_module": "@jupyter-widgets/controls",
            "layout": "IPY_MODEL_b0828e523fac46ddb57e52b0b172f896"
          }
        },
        "ffdee81941b347aeb086f62c35e71bc7": {
          "model_module": "@jupyter-widgets/controls",
          "model_name": "HTMLModel",
          "state": {
            "_view_name": "HTMLView",
            "style": "IPY_MODEL_0e02c874bcb54c4cb15b03714bf7c035",
            "_dom_classes": [],
            "description": "",
            "_model_name": "HTMLModel",
            "placeholder": "​",
            "_view_module": "@jupyter-widgets/controls",
            "_model_module_version": "1.5.0",
            "value": " 500/500 [00:33&lt;00:00, 14.75it/s]",
            "_view_count": null,
            "_view_module_version": "1.5.0",
            "description_tooltip": null,
            "_model_module": "@jupyter-widgets/controls",
            "layout": "IPY_MODEL_ef6bb8d650634fc88344c8d98223af98"
          }
        },
        "4fc47bea65d5457f907531c9f4558c2f": {
          "model_module": "@jupyter-widgets/controls",
          "model_name": "ProgressStyleModel",
          "state": {
            "_view_name": "StyleView",
            "_model_name": "ProgressStyleModel",
            "description_width": "initial",
            "_view_module": "@jupyter-widgets/base",
            "_model_module_version": "1.5.0",
            "_view_count": null,
            "_view_module_version": "1.2.0",
            "bar_color": null,
            "_model_module": "@jupyter-widgets/controls"
          }
        },
        "b0828e523fac46ddb57e52b0b172f896": {
          "model_module": "@jupyter-widgets/base",
          "model_name": "LayoutModel",
          "state": {
            "_view_name": "LayoutView",
            "grid_template_rows": null,
            "right": null,
            "justify_content": null,
            "_view_module": "@jupyter-widgets/base",
            "overflow": null,
            "_model_module_version": "1.2.0",
            "_view_count": null,
            "flex_flow": null,
            "width": null,
            "min_width": null,
            "border": null,
            "align_items": null,
            "bottom": null,
            "_model_module": "@jupyter-widgets/base",
            "top": null,
            "grid_column": null,
            "overflow_y": null,
            "overflow_x": null,
            "grid_auto_flow": null,
            "grid_area": null,
            "grid_template_columns": null,
            "flex": null,
            "_model_name": "LayoutModel",
            "justify_items": null,
            "grid_row": null,
            "max_height": null,
            "align_content": null,
            "visibility": null,
            "align_self": null,
            "height": null,
            "min_height": null,
            "padding": null,
            "grid_auto_rows": null,
            "grid_gap": null,
            "max_width": null,
            "order": null,
            "_view_module_version": "1.2.0",
            "grid_template_areas": null,
            "object_position": null,
            "object_fit": null,
            "grid_auto_columns": null,
            "margin": null,
            "display": null,
            "left": null
          }
        },
        "0e02c874bcb54c4cb15b03714bf7c035": {
          "model_module": "@jupyter-widgets/controls",
          "model_name": "DescriptionStyleModel",
          "state": {
            "_view_name": "StyleView",
            "_model_name": "DescriptionStyleModel",
            "description_width": "",
            "_view_module": "@jupyter-widgets/base",
            "_model_module_version": "1.5.0",
            "_view_count": null,
            "_view_module_version": "1.2.0",
            "_model_module": "@jupyter-widgets/controls"
          }
        },
        "ef6bb8d650634fc88344c8d98223af98": {
          "model_module": "@jupyter-widgets/base",
          "model_name": "LayoutModel",
          "state": {
            "_view_name": "LayoutView",
            "grid_template_rows": null,
            "right": null,
            "justify_content": null,
            "_view_module": "@jupyter-widgets/base",
            "overflow": null,
            "_model_module_version": "1.2.0",
            "_view_count": null,
            "flex_flow": null,
            "width": null,
            "min_width": null,
            "border": null,
            "align_items": null,
            "bottom": null,
            "_model_module": "@jupyter-widgets/base",
            "top": null,
            "grid_column": null,
            "overflow_y": null,
            "overflow_x": null,
            "grid_auto_flow": null,
            "grid_area": null,
            "grid_template_columns": null,
            "flex": null,
            "_model_name": "LayoutModel",
            "justify_items": null,
            "grid_row": null,
            "max_height": null,
            "align_content": null,
            "visibility": null,
            "align_self": null,
            "height": null,
            "min_height": null,
            "padding": null,
            "grid_auto_rows": null,
            "grid_gap": null,
            "max_width": null,
            "order": null,
            "_view_module_version": "1.2.0",
            "grid_template_areas": null,
            "object_position": null,
            "object_fit": null,
            "grid_auto_columns": null,
            "margin": null,
            "display": null,
            "left": null
          }
        }
      }
    }
  },
  "cells": [
    {
      "cell_type": "code",
      "metadata": {
        "id": "W9RfufJgFRtI",
        "colab_type": "code",
        "colab": {
          "base_uri": "https://localhost:8080/",
          "height": 34
        },
        "outputId": "e95942ec-61f9-416c-997c-b10a425d3a2a"
      },
      "source": [
        "from google.colab import drive\n",
        "drive.mount('/content/gdrive')"
      ],
      "execution_count": 15,
      "outputs": [
        {
          "output_type": "stream",
          "text": [
            "Drive already mounted at /content/gdrive; to attempt to forcibly remount, call drive.mount(\"/content/gdrive\", force_remount=True).\n"
          ],
          "name": "stdout"
        }
      ]
    },
    {
      "cell_type": "code",
      "metadata": {
        "id": "PfwaYW1MFcFw",
        "colab_type": "code",
        "colab": {}
      },
      "source": [
        "import os\n",
        "from keras.utils.np_utils import to_categorical \n",
        "import numpy as np\n",
        "import cv2 \n",
        "from tqdm.notebook import tqdm\n",
        "from google.colab.patches import cv2_imshow\n",
        "from sklearn.model_selection import train_test_split\n",
        "import keras\n",
        "from keras.layers import Dense, Conv2D, MaxPooling2D , Flatten, Dropout\n",
        "from keras.layers import AveragePooling2D\n",
        "from keras.models import Model\n",
        "from keras.layers import Input\n",
        "import tensorflow as tf\n",
        "from keras.utils import plot_model"
      ],
      "execution_count": 39,
      "outputs": []
    },
    {
      "cell_type": "code",
      "metadata": {
        "id": "5PHLDGMKFpQp",
        "colab_type": "code",
        "colab": {}
      },
      "source": [
        "#defining path of location where all 3 sets are stored\n",
        "Path_aircrafts = '/content/gdrive/My Drive/Dataset2/aircrafts/'\n",
        "Path_ships = '/content/gdrive/My Drive/Dataset2/ships/'\n",
        "Path_none = '/content/gdrive/My Drive/Dataset2/none/'"
      ],
      "execution_count": 83,
      "outputs": []
    },
    {
      "cell_type": "code",
      "metadata": {
        "id": "gFEgT-GOFsrq",
        "colab_type": "code",
        "colab": {
          "base_uri": "https://localhost:8080/",
          "height": 138
        },
        "outputId": "ffb5d068-1964-4fc6-aa2d-9edc22afda11"
      },
      "source": [
        "#looking at names of images and number of images\n",
        "dirs_aircrafts = os.listdir(Path_aircrafts)\n",
        "dirs_ships = os.listdir(Path_ships)\n",
        "dirs_none = os.listdir(Path_none)\n",
        "print(dirs_aircrafts)\n",
        "k = np.array(dirs_aircrafts)\n",
        "print(k.shape)\n",
        "\n",
        "print(dirs_ships)\n",
        "l = np.array(dirs_ships)\n",
        "print(l.shape)\n",
        "\n",
        "print(dirs_none)\n",
        "m = np.array(dirs_none)\n",
        "print(m.shape)"
      ],
      "execution_count": 84,
      "outputs": [
        {
          "output_type": "stream",
          "text": [
            "['54.png', '377.png', '80.png', '478.png', '477.png', '99.png', '208.png', '379.png', '132.png', '500.png', '195.png', '180.png', '261.png', '319.png', '33.png', '289.png', '85.png', '455.png', '484.png', '392.png', '291.png', '419.png', '206.png', '408.png', '153.png', '464.png', '287.png', '323.png', '431.png', '388.png', '399.png', '436.png', '124.png', '351.png', '3.png', '74.png', '182.png', '78.png', '41.png', '53.png', '82.png', '116.png', '19.png', '308.png', '23.png', '304.png', '397.png', '58.png', '66.png', '273.png', '142.png', '309.png', '102.png', '178.png', '149.png', '460.png', '108.png', '106.png', '461.png', '4.png', '439.png', '433.png', '154.png', '209.png', '470.png', '86.png', '168.png', '411.png', '222.png', '235.png', '371.png', '276.png', '249.png', '199.png', '272.png', '83.png', '387.png', '105.png', '239.png', '44.png', '400.png', '60.png', '27.png', '101.png', '311.png', '314.png', '12.png', '402.png', '163.png', '346.png', '498.png', '307.png', '434.png', '225.png', '449.png', '462.png', '226.png', '143.png', '88.png', '134.png', '6.png', '13.png', '183.png', '405.png', '63.png', '204.png', '446.png', '71.png', '152.png', '97.png', '404.png', '64.png', '380.png', '43.png', '385.png', '45.png', '110.png', '413.png', '137.png', '279.png', '109.png', '147.png', '200.png', '444.png', '256.png', '22.png', '9.png', '456.png', '284.png', '5.png', '34.png', '316.png', '7.png', '145.png', '103.png', '164.png', '35.png', '197.png', '356.png', '57.png', '330.png', '248.png', '420.png', '499.png', '476.png', '30.png', '253.png', '77.png', '325.png', '122.png', '264.png', '25.png', '241.png', '310.png', '375.png', '331.png', '290.png', '165.png', '51.png', '337.png', '417.png', '384.png', '89.png', '412.png', '146.png', '138.png', '16.png', '170.png', '237.png', '20.png', '172.png', '115.png', '210.png', '263.png', '96.png', '125.png', '354.png', '184.png', '338.png', '173.png', '207.png', '491.png', '231.png', '187.png', '490.png', '69.png', '269.png', '361.png', '469.png', '324.png', '468.png', '294.png', '221.png', '242.png', '315.png', '321.png', '306.png', '452.png', '223.png', '156.png', '442.png', '370.png', '232.png', '212.png', '216.png', '177.png', '42.png', '131.png', '347.png', '213.png', '378.png', '275.png', '93.png', '246.png', '440.png', '107.png', '40.png', '454.png', '320.png', '481.png', '270.png', '482.png', '366.png', '48.png', '429.png', '100.png', '150.png', '176.png', '293.png', '393.png', '245.png', '414.png', '140.png', '227.png', '336.png', '381.png', '158.png', '21.png', '202.png', '485.png', '459.png', '389.png', '123.png', '179.png', '119.png', '55.png', '453.png', '191.png', '38.png', '416.png', '128.png', '26.png', '427.png', '167.png', '18.png', '357.png', '497.png', '312.png', '81.png', '466.png', '295.png', '394.png', '288.png', '121.png', '369.png', '238.png', '171.png', '250.png', '280.png', '495.png', '341.png', '76.png', '185.png', '374.png', '166.png', '196.png', '457.png', '486.png', '193.png', '488.png', '155.png', '260.png', '265.png', '2.png', '489.png', '127.png', '345.png', '391.png', '17.png', '343.png', '327.png', '300.png', '283.png', '475.png', '424.png', '372.png', '435.png', '494.png', '403.png', '441.png', '395.png', '328.png', '353.png', '62.png', '467.png', '450.png', '46.png', '220.png', '198.png', '205.png', '175.png', '24.png', '218.png', '90.png', '407.png', '244.png', '334.png', '1.png', '162.png', '215.png', '303.png', '390.png', '259.png', '362.png', '277.png', '112.png', '373.png', '292.png', '326.png', '410.png', '492.png', '479.png', '281.png', '47.png', '136.png', '302.png', '135.png', '339.png', '318.png', '157.png', '203.png', '120.png', '139.png', '14.png', '228.png', '73.png', '333.png', '430.png', '39.png', '126.png', '437.png', '438.png', '247.png', '72.png', '342.png', '473.png', '59.png', '448.png', '451.png', '367.png', '360.png', '233.png', '472.png', '422.png', '425.png', '398.png', '335.png', '169.png', '56.png', '458.png', '31.png', '8.png', '94.png', '217.png', '234.png', '480.png', '443.png', '61.png', '229.png', '141.png', '201.png', '329.png', '75.png', '252.png', '91.png', '70.png', '160.png', '364.png', '432.png', '84.png', '350.png', '214.png', '274.png', '465.png', '240.png', '92.png', '349.png', '211.png', '418.png', '224.png', '28.png', '32.png', '305.png', '49.png', '257.png', '359.png', '10.png', '243.png', '254.png', '285.png', '299.png', '36.png', '297.png', '332.png', '251.png', '296.png', '282.png', '114.png', '181.png', '186.png', '130.png', '423.png', '415.png', '271.png', '365.png', '383.png', '129.png', '104.png', '174.png', '358.png', '322.png', '313.png', '286.png', '67.png', '406.png', '87.png', '219.png', '151.png', '161.png', '144.png', '298.png', '148.png', '363.png', '421.png', '189.png', '447.png', '190.png', '301.png', '376.png', '113.png', '15.png', '37.png', '487.png', '401.png', '474.png', '79.png', '386.png', '11.png', '396.png', '368.png', '65.png', '426.png', '317.png', '267.png', '111.png', '344.png', '159.png', '68.png', '445.png', '352.png', '29.png', '133.png', '255.png', '278.png', '117.png', '52.png', '192.png', '98.png', '496.png', '483.png', '266.png', '95.png', '428.png', '471.png', '262.png', '463.png', '493.png', '348.png', '236.png', '355.png', '340.png', '194.png', '258.png', '50.png', '230.png', '409.png', '268.png', '118.png', '188.png', '382.png']\n",
            "(500,)\n",
            "['159.png', '190.png', '172.png', '341.png', '347.png', '37.png', '235.png', '180.png', '393.png', '371.png', '16.png', '111.png', '345.png', '386.png', '437.png', '10.png', '284.png', '409.png', '301.png', '55.png', '149.png', '422.png', '348.png', '466.png', '450.png', '487.png', '212.png', '218.png', '239.png', '233.png', '174.png', '497.png', '91.png', '261.png', '223.png', '269.png', '163.png', '168.png', '105.png', '179.png', '209.png', '116.png', '404.png', '27.png', '446.png', '444.png', '203.png', '459.png', '31.png', '289.png', '133.png', '392.png', '472.png', '185.png', '35.png', '13.png', '365.png', '366.png', '500.png', '26.png', '151.png', '112.png', '299.png', '498.png', '29.png', '435.png', '396.png', '127.png', '484.png', '173.png', '123.png', '213.png', '282.png', '462.png', '64.png', '433.png', '114.png', '412.png', '492.png', '21.png', '420.png', '131.png', '298.png', '132.png', '410.png', '384.png', '78.png', '92.png', '44.png', '65.png', '485.png', '156.png', '154.png', '54.png', '265.png', '353.png', '385.png', '215.png', '217.png', '330.png', '367.png', '166.png', '387.png', '375.png', '51.png', '71.png', '477.png', '300.png', '40.png', '152.png', '56.png', '7.png', '53.png', '148.png', '260.png', '315.png', '354.png', '286.png', '96.png', '101.png', '130.png', '443.png', '146.png', '229.png', '144.png', '237.png', '380.png', '126.png', '183.png', '295.png', '266.png', '469.png', '370.png', '231.png', '8.png', '93.png', '141.png', '313.png', '228.png', '455.png', '49.png', '382.png', '331.png', '296.png', '272.png', '20.png', '128.png', '439.png', '423.png', '22.png', '352.png', '108.png', '244.png', '136.png', '343.png', '324.png', '394.png', '205.png', '402.png', '240.png', '86.png', '262.png', '85.png', '181.png', '305.png', '304.png', '429.png', '142.png', '98.png', '88.png', '47.png', '415.png', '308.png', '12.png', '39.png', '129.png', '489.png', '170.png', '28.png', '322.png', '493.png', '17.png', '82.png', '103.png', '447.png', '5.png', '254.png', '97.png', '249.png', '448.png', '454.png', '124.png', '302.png', '481.png', '320.png', '193.png', '411.png', '162.png', '311.png', '6.png', '374.png', '335.png', '210.png', '293.png', '419.png', '175.png', '230.png', '158.png', '359.png', '356.png', '84.png', '182.png', '63.png', '165.png', '321.png', '72.png', '104.png', '332.png', '398.png', '407.png', '495.png', '287.png', '220.png', '494.png', '100.png', '117.png', '18.png', '61.png', '75.png', '207.png', '147.png', '33.png', '372.png', '121.png', '460.png', '303.png', '138.png', '361.png', '68.png', '478.png', '377.png', '214.png', '201.png', '483.png', '76.png', '426.png', '195.png', '255.png', '424.png', '58.png', '309.png', '461.png', '225.png', '418.png', '388.png', '251.png', '431.png', '307.png', '187.png', '336.png', '238.png', '473.png', '200.png', '192.png', '276.png', '399.png', '449.png', '401.png', '406.png', '36.png', '15.png', '457.png', '342.png', '77.png', '113.png', '226.png', '81.png', '79.png', '395.png', '285.png', '23.png', '278.png', '89.png', '11.png', '137.png', '467.png', '334.png', '333.png', '339.png', '368.png', '110.png', '50.png', '189.png', '291.png', '94.png', '30.png', '242.png', '73.png', '122.png', '340.png', '38.png', '294.png', '232.png', '475.png', '470.png', '42.png', '14.png', '164.png', '486.png', '482.png', '326.png', '317.png', '252.png', '167.png', '463.png', '292.png', '119.png', '430.png', '83.png', '248.png', '241.png', '327.png', '442.png', '428.png', '379.png', '245.png', '67.png', '243.png', '381.png', '440.png', '264.png', '43.png', '310.png', '434.png', '452.png', '314.png', '70.png', '208.png', '416.png', '145.png', '453.png', '318.png', '2.png', '414.png', '41.png', '259.png', '421.png', '191.png', '95.png', '274.png', '9.png', '184.png', '400.png', '222.png', '234.png', '312.png', '362.png', '219.png', '34.png', '408.png', '369.png', '153.png', '221.png', '427.png', '120.png', '351.png', '224.png', '199.png', '325.png', '417.png', '405.png', '275.png', '250.png', '357.png', '178.png', '186.png', '360.png', '445.png', '338.png', '364.png', '66.png', '328.png', '236.png', '403.png', '281.png', '74.png', '62.png', '135.png', '263.png', '257.png', '397.png', '106.png', '177.png', '3.png', '456.png', '4.png', '90.png', '323.png', '198.png', '155.png', '346.png', '432.png', '373.png', '271.png', '390.png', '134.png', '316.png', '247.png', '436.png', '211.png', '171.png', '109.png', '378.png', '157.png', '107.png', '471.png', '490.png', '59.png', '458.png', '358.png', '441.png', '480.png', '350.png', '355.png', '451.png', '465.png', '115.png', '474.png', '413.png', '196.png', '246.png', '267.png', '118.png', '376.png', '57.png', '52.png', '464.png', '176.png', '256.png', '491.png', '479.png', '24.png', '496.png', '202.png', '258.png', '150.png', '46.png', '499.png', '19.png', '160.png', '297.png', '273.png', '488.png', '87.png', '99.png', '161.png', '45.png', '344.png', '389.png', '438.png', '102.png', '270.png', '32.png', '204.png', '80.png', '227.png', '25.png', '306.png', '206.png', '280.png', '216.png', '268.png', '319.png', '140.png', '277.png', '48.png', '383.png', '349.png', '283.png', '337.png', '279.png', '188.png', '363.png', '197.png', '391.png', '143.png', '60.png', '329.png', '169.png', '194.png', '288.png', '125.png', '1.png', '476.png', '468.png', '290.png', '253.png', '69.png', '139.png', '425.png']\n",
            "(500,)\n",
            "['390.png', '417.png', '80.png', '291.png', '290.png', '442.png', '112.png', '42.png', '63.png', '40.png', '354.png', '111.png', '260.png', '321.png', '228.png', '118.png', '379.png', '364.png', '320.png', '126.png', '388.png', '387.png', '326.png', '110.png', '235.png', '267.png', '79.png', '414.png', '413.png', '352.png', '191.png', '238.png', '443.png', '8.png', '51.png', '20.png', '395.png', '477.png', '430.png', '463.png', '245.png', '100.png', '268.png', '216.png', '469.png', '233.png', '62.png', '484.png', '93.png', '109.png', '64.png', '15.png', '474.png', '355.png', '2.png', '342.png', '128.png', '445.png', '210.png', '301.png', '466.png', '187.png', '370.png', '338.png', '129.png', '377.png', '99.png', '423.png', '7.png', '240.png', '483.png', '366.png', '220.png', '30.png', '337.png', '412.png', '500.png', '393.png', '167.png', '140.png', '120.png', '39.png', '18.png', '481.png', '227.png', '468.png', '294.png', '334.png', '50.png', '361.png', '368.png', '486.png', '384.png', '328.png', '340.png', '383.png', '378.png', '266.png', '427.png', '72.png', '190.png', '262.png', '212.png', '344.png', '441.png', '265.png', '437.png', '236.png', '422.png', '226.png', '313.png', '165.png', '429.png', '101.png', '49.png', '33.png', '19.png', '471.png', '385.png', '214.png', '343.png', '278.png', '65.png', '411.png', '479.png', '485.png', '219.png', '61.png', '149.png', '71.png', '11.png', '225.png', '108.png', '234.png', '280.png', '303.png', '386.png', '279.png', '465.png', '490.png', '32.png', '103.png', '1.png', '166.png', '351.png', '151.png', '415.png', '476.png', '232.png', '401.png', '52.png', '493.png', '487.png', '211.png', '341.png', '488.png', '309.png', '241.png', '102.png', '281.png', '494.png', '362.png', '259.png', '369.png', '70.png', '397.png', '318.png', '446.png', '421.png', '293.png', '207.png', '213.png', '307.png', '403.png', '10.png', '3.png', '473.png', '152.png', '475.png', '335.png', '360.png', '4.png', '5.png', '389.png', '249.png', '205.png', '83.png', '269.png', '16.png', '13.png', '169.png', '53.png', '189.png', '396.png', '125.png', '138.png', '348.png', '496.png', '363.png', '127.png', '137.png', '247.png', '444.png', '29.png', '382.png', '239.png', '38.png', '121.png', '400.png', '402.png', '299.png', '312.png', '277.png', '319.png', '438.png', '472.png', '346.png', '491.png', '204.png', '153.png', '350.png', '237.png', '74.png', '244.png', '460.png', '229.png', '404.png', '217.png', '31.png', '391.png', '495.png', '461.png', '141.png', '73.png', '206.png', '467.png', '381.png', '380.png', '349.png', '353.png', '347.png', '150.png', '322.png', '218.png', '431.png', '21.png', '139.png', '308.png', '394.png', '480.png', '440.png', '302.png', '168.png', '327.png', '478.png', '330.png', '119.png', '41.png', '300.png', '428.png', '292.png', '439.png', '482.png', '17.png', '208.png', '367.png', '258.png', '336.png', '329.png', '462.png', '188.png', '246.png', '122.png', '489.png', '81.png', '261.png', '9.png', '12.png', '14.png', '464.png', '90.png', '87.png', '306.png', '82.png', '492.png', '88.png', '84.png', '86.png', '310.png', '92.png', '89.png', '311.png', '85.png', '91.png', '248.png', '185.png', '275.png', '54.png', '425.png', '224.png', '132.png', '182.png', '374.png', '450.png', '497.png', '453.png', '162.png', '180.png', '432.png', '289.png', '97.png', '398.png', '356.png', '202.png', '287.png', '375.png', '106.png', '359.png', '142.png', '456.png', '194.png', '392.png', '376.png', '332.png', '316.png', '114.png', '28.png', '304.png', '148.png', '434.png', '454.png', '418.png', '199.png', '357.png', '314.png', '251.png', '105.png', '448.png', '25.png', '157.png', '433.png', '323.png', '147.png', '77.png', '196.png', '164.png', '419.png', '113.png', '115.png', '358.png', '76.png', '435.png', '252.png', '283.png', '184.png', '345.png', '276.png', '154.png', '284.png', '35.png', '177.png', '95.png', '315.png', '104.png', '406.png', '452.png', '203.png', '36.png', '221.png', '298.png', '96.png', '285.png', '24.png', '215.png', '58.png', '117.png', '451.png', '146.png', '371.png', '254.png', '365.png', '161.png', '160.png', '455.png', '186.png', '201.png', '78.png', '60.png', '288.png', '171.png', '372.png', '270.png', '131.png', '271.png', '242.png', '297.png', '282.png', '48.png', '195.png', '98.png', '305.png', '37.png', '317.png', '264.png', '67.png', '43.png', '458.png', '295.png', '223.png', '192.png', '174.png', '176.png', '273.png', '181.png', '255.png', '230.png', '66.png', '94.png', '69.png', '250.png', '34.png', '143.png', '133.png', '459.png', '145.png', '26.png', '263.png', '408.png', '144.png', '333.png', '173.png', '405.png', '499.png', '198.png', '339.png', '253.png', '183.png', '274.png', '134.png', '436.png', '407.png', '136.png', '27.png', '57.png', '209.png', '399.png', '470.png', '175.png', '409.png', '159.png', '457.png', '231.png', '243.png', '172.png', '55.png', '56.png', '447.png', '197.png', '256.png', '23.png', '178.png', '6.png', '410.png', '75.png', '424.png', '170.png', '130.png', '296.png', '257.png', '331.png', '324.png', '135.png', '286.png', '155.png', '158.png', '222.png', '325.png', '179.png', '498.png', '46.png', '426.png', '449.png', '124.png', '116.png', '156.png', '68.png', '22.png', '44.png', '373.png', '123.png', '272.png', '45.png', '107.png', '420.png', '163.png', '47.png', '416.png', '193.png', '200.png', '59.png']\n",
            "(500,)\n"
          ],
          "name": "stdout"
        }
      ]
    },
    {
      "cell_type": "code",
      "metadata": {
        "id": "0iHczTwrHmZg",
        "colab_type": "code",
        "colab": {
          "base_uri": "https://localhost:8080/",
          "height": 90
        },
        "outputId": "718d54e6-066f-49dc-a0ae-191fb5c993db"
      },
      "source": [
        "\n",
        "#Checking size of 2 different images and showing the images too\n",
        "path1 = '/content/gdrive/My Drive/Dataset2/aircrafts/54.png'\n",
        "img1 = cv2.imread(path1,1)\n",
        "print(img1.shape) \n",
        "cv2_imshow(img1)\n",
        "\n",
        "path2 = '/content/gdrive/My Drive/Dataset2/aircrafts/442.png'\n",
        "img2 = cv2.imread(path2,1) \n",
        "print(img2.shape)\n",
        "cv2_imshow(img2)\n"
      ],
      "execution_count": 85,
      "outputs": [
        {
          "output_type": "stream",
          "text": [
            "(20, 20, 3)\n"
          ],
          "name": "stdout"
        },
        {
          "output_type": "display_data",
          "data": {
            "image/png": "[encoded data removed]",
            "text/plain": [
              "<PIL.Image.Image image mode=RGB size=20x20 at 0x7FCE6BCA6860>"
            ]
          },
          "metadata": {
            "tags": []
          }
        },
        {
          "output_type": "stream",
          "text": [
            "(20, 20, 3)\n"
          ],
          "name": "stdout"
        },
        {
          "output_type": "display_data",
          "data": {
            "image/png": "[encoded data removed]",
            "text/plain": [
              "<PIL.Image.Image image mode=RGB size=20x20 at 0x7FCE6BCA6828>"
            ]
          },
          "metadata": {
            "tags": []
          }
        }
      ]
    },
    {
      "cell_type": "code",
      "metadata": {
        "id": "s2cZc97rFwf0",
        "colab_type": "code",
        "colab": {}
      },
      "source": [
        "Path_aircrafts = '/content/gdrive/My Drive/Dataset2/aircrafts/'\n",
        "Path_ships = '/content/gdrive/My Drive/Dataset2/ships/'\n",
        "Path_none = '/content/gdrive/My Drive/Dataset2/none/'\n",
        "X = np.empty((1500, 20, 20, 3),float)"
      ],
      "execution_count": 86,
      "outputs": []
    },
    {
      "cell_type": "code",
      "metadata": {
        "id": "VCZYgkDUIxMk",
        "colab_type": "code",
        "colab": {
          "base_uri": "https://localhost:8080/",
          "height": 197,
          "referenced_widgets": [
            "409e70502101497bbbd1ad4c49c7d7a6",
            "9f3357004177477fb6c13155fcb99002",
            "f02c6ea49433429ea5aa6738a17cbfbb",
            "b47b2aee42894a3795aeea4dfc0944f9",
            "06d06c7884f74d9f9b972f5aa6bfbef1",
            "b147b80d91ce474b8d63e6cbe6a2ee7f",
            "159e73c62bfe4abb9518df5677931a0c",
            "ed5e2afb417a429ebfaae17e0e6a2daf",
            "59cdfecb88684634bcbc9d5a05448b2d",
            "d88fb23d41c24affad162040aa2fb7dd",
            "71a4ebe7b11c47fd9e62bb29faa33df3",
            "9c519ec0091d49bda71c077dac267bdd",
            "e5bae6a7dfe347d28e77f598b6123fe6",
            "884274e6a4614cf8bec6033717adc8ba",
            "0476fee3bb874eaaa8ac74adb5b86a4a",
            "ca891e944e3e41618e42f980d2ed6635",
            "7717e19cb9eb4c7bb7aae04517226535",
            "af8665c6ebb64270b90f5177430f5375",
            "31d5e31283c04824b4a1f9b8d4081aeb",
            "ffdee81941b347aeb086f62c35e71bc7",
            "4fc47bea65d5457f907531c9f4558c2f",
            "b0828e523fac46ddb57e52b0b172f896",
            "0e02c874bcb54c4cb15b03714bf7c035",
            "ef6bb8d650634fc88344c8d98223af98"
          ]
        },
        "outputId": "8f859cc4-3409-49f9-f137-eedfa4b4fc18"
      },
      "source": [
        "Y = [ ]\n",
        "for i in tqdm(range(500)):\n",
        "  img = cv2.imread(Path_aircrafts+'/'+dirs_aircrafts[i] )\n",
        "  img = np.resize(img,(20,20,3))\n",
        "  X[i] = img\n",
        "  Y.append(0)\n",
        "for i in tqdm(range(500)):\n",
        "  img = cv2.imread(Path_ships+'/'+dirs_ships[i] )\n",
        "  img = np.resize(img,(20,20,3))\n",
        "  X[i+500] = img\n",
        "  Y.append(1)\n",
        "for i in tqdm(range(500)):\n",
        "  img = cv2.imread(Path_none+'/'+dirs_none[i] )\n",
        "  img = np.resize(img,(20,20,3))\n",
        "  X[i+1000] = img\n",
        "  Y.append(2)\n",
        "\n",
        "     \n",
        "y = to_categorical(Y, num_classes=3)\n",
        "print(y.shape)\n",
        "print(X.shape) "
      ],
      "execution_count": 87,
      "outputs": [
        {
          "output_type": "display_data",
          "data": {
            "application/vnd.jupyter.widget-view+json": {
              "model_id": "409e70502101497bbbd1ad4c49c7d7a6",
              "version_minor": 0,
              "version_major": 2
            },
            "text/plain": [
              "HBox(children=(FloatProgress(value=0.0, max=500.0), HTML(value='')))"
            ]
          },
          "metadata": {
            "tags": []
          }
        },
        {
          "output_type": "stream",
          "text": [
            "\n"
          ],
          "name": "stdout"
        },
        {
          "output_type": "display_data",
          "data": {
            "application/vnd.jupyter.widget-view+json": {
              "model_id": "59cdfecb88684634bcbc9d5a05448b2d",
              "version_minor": 0,
              "version_major": 2
            },
            "text/plain": [
              "HBox(children=(FloatProgress(value=0.0, max=500.0), HTML(value='')))"
            ]
          },
          "metadata": {
            "tags": []
          }
        },
        {
          "output_type": "stream",
          "text": [
            "\n"
          ],
          "name": "stdout"
        },
        {
          "output_type": "display_data",
          "data": {
            "application/vnd.jupyter.widget-view+json": {
              "model_id": "7717e19cb9eb4c7bb7aae04517226535",
              "version_minor": 0,
              "version_major": 2
            },
            "text/plain": [
              "HBox(children=(FloatProgress(value=0.0, max=500.0), HTML(value='')))"
            ]
          },
          "metadata": {
            "tags": []
          }
        },
        {
          "output_type": "stream",
          "text": [
            "\n",
            "(1500, 3)\n",
            "(1500, 20, 20, 3)\n"
          ],
          "name": "stdout"
        }
      ]
    },
    {
      "cell_type": "code",
      "metadata": {
        "id": "1X_zBCPPQHeW",
        "colab_type": "code",
        "colab": {
          "base_uri": "https://localhost:8080/",
          "height": 90
        },
        "outputId": "0cf6f328-93a2-4c4f-e9d6-121527d6aa7e"
      },
      "source": [
        "#Code to take imput X,y,i and output image and label.\n",
        "def check(X,y,i):\n",
        "  print (y[i])\n",
        "  img = X[i]\n",
        "  cv2_imshow(img)\n",
        "\n",
        "check(X,y,1000)\n",
        "check(X,y,999)"
      ],
      "execution_count": 88,
      "outputs": [
        {
          "output_type": "stream",
          "text": [
            "[0. 0. 1.]\n"
          ],
          "name": "stdout"
        },
        {
          "output_type": "display_data",
          "data": {
            "image/png": "[encoded data removed]",
            "text/plain": [
              "<PIL.Image.Image image mode=RGB size=20x20 at 0x7FCE6BCA67F0>"
            ]
          },
          "metadata": {
            "tags": []
          }
        },
        {
          "output_type": "stream",
          "text": [
            "[0. 1. 0.]\n"
          ],
          "name": "stdout"
        },
        {
          "output_type": "display_data",
          "data": {
            "image/png": "[encoded data removed]",
            "text/plain": [
              "<PIL.Image.Image image mode=RGB size=20x20 at 0x7FCE6BCA6828>"
            ]
          },
          "metadata": {
            "tags": []
          }
        }
      ]
    },
    {
      "cell_type": "code",
      "metadata": {
        "id": "RBiZIptuQK_m",
        "colab_type": "code",
        "colab": {}
      },
      "source": [
        "path2save = '/content/gdrive/My Drive/save_npy_files/'\n",
        "np.save(path2save+'Dataset2.npy', X )\n",
        "np.save(path2save+'Dataset2_label.npy', y )"
      ],
      "execution_count": 27,
      "outputs": []
    },
    {
      "cell_type": "code",
      "metadata": {
        "id": "vpAJ-HCTC8Gp",
        "colab_type": "code",
        "colab": {}
      },
      "source": [
        "X_train, X_test, Y_train, Y_test = train_test_split(X, y, train_size=0.8,test_size=0.2,shuffle = True)\n",
        "X_train = X_train.astype('float32') / 255.\n",
        "X_test = X_test.astype('float32') / 255."
      ],
      "execution_count": 89,
      "outputs": []
    },
    {
      "cell_type": "code",
      "metadata": {
        "id": "-ehsUxpoRpou",
        "colab_type": "code",
        "colab": {
          "base_uri": "https://localhost:8080/",
          "height": 1000
        },
        "outputId": "9ea02195-f655-451e-a41d-daccd385abd6"
      },
      "source": [
        "#Resnet using Keras\n",
        "inputs = Input(shape =(20,20,3))\n",
        "\n",
        "conv1 = Conv2D(64, kernel_size=7,padding= 'same', activation='relu')(inputs)\n",
        "pool1 = MaxPooling2D(pool_size = (2,2), strides = 2)(conv1) \n",
        "\n",
        "conv2 = Conv2D(64, kernel_size=3,padding= 'same', activation='relu')(pool1)\n",
        "conv3 = Conv2D(64, kernel_size=3,padding= 'same', activation='relu')(conv2) #has shape (128,128,64)\n",
        "bn1 = tf.keras.layers.BatchNormalization(axis = -1)(conv3)\n",
        "\n",
        "\n",
        "conv6 = Conv2D(64, kernel_size=3,padding= 'same', activation='relu')(bn1) #Residual addition\n",
        "conv7 = Conv2D(64, kernel_size=3,padding= 'same', activation='relu')(conv6) #has shape (128,128,64)\n",
        "\n",
        "conv8 = Conv2D(64, kernel_size=3,padding= 'same', activation='relu')(conv7 + bn1) #Residual addition\n",
        "conv9 = Conv2D(64, kernel_size=3,padding= 'same', activation='relu')(conv8) #has shape (128,128,64)\n",
        "bn2 = tf.keras.layers.BatchNormalization(axis = -1)(conv9)\n",
        "\n",
        "pool2 = MaxPooling2D(pool_size = (2,2), strides = 2)(bn2) #has shape (64,64,64)\n",
        "\n",
        "conv10 = Conv2D(128, kernel_size=3,padding= 'same', activation='relu')(pool2 + Conv2D(64, kernel_size=1, strides = 2, activation='linear')(conv7)) #Residual addition\n",
        "conv11 = Conv2D(128, kernel_size=3,padding= 'same', activation='relu')(conv10) #has shape (64,64,128)\n",
        "bn3 = tf.keras.layers.BatchNormalization(axis = -1)(conv11)\n",
        "\n",
        "conv12 = Conv2D(128, kernel_size=3,padding= 'same', activation='relu')(Conv2D(64, kernel_size=1,padding= 'same', activation='linear')(bn3)+ pool2) #Residual addition\n",
        "conv13 = Conv2D(128, kernel_size=3,padding= 'same', activation='relu')(conv12)\n",
        "\n",
        "conv16 = Conv2D(128, kernel_size=3,padding= 'same', activation='relu')(conv13 + bn3) #Residual addition\n",
        "bn4 = tf.keras.layers.BatchNormalization(axis = -1)(conv16)\n",
        "\n",
        "pool4 = MaxPooling2D(pool_size = (2,2), strides = 2)(bn4)\n",
        "\n",
        "conv31 = Conv2D(512, kernel_size=3,padding= 'same', activation='relu')(pool4)\n",
        "\n",
        "\n",
        "pool5 = AveragePooling2D(pool_size=(2,2))(conv31)\n",
        "\n",
        "flat = Flatten()(pool5)\n",
        "output = Dense(3, activation = 'softmax')(flat)\n",
        "\n",
        "\n",
        "model = Model(inputs, outputs=output)\n",
        "print(model.summary())\n",
        "plot_model(model)"
      ],
      "execution_count": 90,
      "outputs": [
        {
          "output_type": "stream",
          "text": [
            "Model: \"functional_9\"\n",
            "__________________________________________________________________________________________________\n",
            "Layer (type)                    Output Shape         Param #     Connected to                     \n",
            "==================================================================================================\n",
            "input_8 (InputLayer)            [(None, 20, 20, 3)]  0                                            \n",
            "__________________________________________________________________________________________________\n",
            "conv2d_94 (Conv2D)              (None, 20, 20, 64)   9472        input_8[0][0]                    \n",
            "__________________________________________________________________________________________________\n",
            "max_pooling2d_19 (MaxPooling2D) (None, 10, 10, 64)   0           conv2d_94[0][0]                  \n",
            "__________________________________________________________________________________________________\n",
            "conv2d_95 (Conv2D)              (None, 10, 10, 64)   36928       max_pooling2d_19[0][0]           \n",
            "__________________________________________________________________________________________________\n",
            "conv2d_96 (Conv2D)              (None, 10, 10, 64)   36928       conv2d_95[0][0]                  \n",
            "__________________________________________________________________________________________________\n",
            "batch_normalization_24 (BatchNo (None, 10, 10, 64)   256         conv2d_96[0][0]                  \n",
            "__________________________________________________________________________________________________\n",
            "conv2d_97 (Conv2D)              (None, 10, 10, 64)   36928       batch_normalization_24[0][0]     \n",
            "__________________________________________________________________________________________________\n",
            "conv2d_98 (Conv2D)              (None, 10, 10, 64)   36928       conv2d_97[0][0]                  \n",
            "__________________________________________________________________________________________________\n",
            "tf_op_layer_AddV2_26 (TensorFlo [(None, 10, 10, 64)] 0           conv2d_98[0][0]                  \n",
            "                                                                 batch_normalization_24[0][0]     \n",
            "__________________________________________________________________________________________________\n",
            "conv2d_99 (Conv2D)              (None, 10, 10, 64)   36928       tf_op_layer_AddV2_26[0][0]       \n",
            "__________________________________________________________________________________________________\n",
            "conv2d_100 (Conv2D)             (None, 10, 10, 64)   36928       conv2d_99[0][0]                  \n",
            "__________________________________________________________________________________________________\n",
            "batch_normalization_25 (BatchNo (None, 10, 10, 64)   256         conv2d_100[0][0]                 \n",
            "__________________________________________________________________________________________________\n",
            "max_pooling2d_20 (MaxPooling2D) (None, 5, 5, 64)     0           batch_normalization_25[0][0]     \n",
            "__________________________________________________________________________________________________\n",
            "conv2d_102 (Conv2D)             (None, 5, 5, 64)     4160        conv2d_98[0][0]                  \n",
            "__________________________________________________________________________________________________\n",
            "tf_op_layer_AddV2_27 (TensorFlo [(None, 5, 5, 64)]   0           max_pooling2d_20[0][0]           \n",
            "                                                                 conv2d_102[0][0]                 \n",
            "__________________________________________________________________________________________________\n",
            "conv2d_101 (Conv2D)             (None, 5, 5, 128)    73856       tf_op_layer_AddV2_27[0][0]       \n",
            "__________________________________________________________________________________________________\n",
            "conv2d_103 (Conv2D)             (None, 5, 5, 128)    147584      conv2d_101[0][0]                 \n",
            "__________________________________________________________________________________________________\n",
            "batch_normalization_26 (BatchNo (None, 5, 5, 128)    512         conv2d_103[0][0]                 \n",
            "__________________________________________________________________________________________________\n",
            "conv2d_105 (Conv2D)             (None, 5, 5, 64)     8256        batch_normalization_26[0][0]     \n",
            "__________________________________________________________________________________________________\n",
            "tf_op_layer_AddV2_28 (TensorFlo [(None, 5, 5, 64)]   0           conv2d_105[0][0]                 \n",
            "                                                                 max_pooling2d_20[0][0]           \n",
            "__________________________________________________________________________________________________\n",
            "conv2d_104 (Conv2D)             (None, 5, 5, 128)    73856       tf_op_layer_AddV2_28[0][0]       \n",
            "__________________________________________________________________________________________________\n",
            "conv2d_106 (Conv2D)             (None, 5, 5, 128)    147584      conv2d_104[0][0]                 \n",
            "__________________________________________________________________________________________________\n",
            "tf_op_layer_AddV2_29 (TensorFlo [(None, 5, 5, 128)]  0           conv2d_106[0][0]                 \n",
            "                                                                 batch_normalization_26[0][0]     \n",
            "__________________________________________________________________________________________________\n",
            "conv2d_107 (Conv2D)             (None, 5, 5, 128)    147584      tf_op_layer_AddV2_29[0][0]       \n",
            "__________________________________________________________________________________________________\n",
            "batch_normalization_27 (BatchNo (None, 5, 5, 128)    512         conv2d_107[0][0]                 \n",
            "__________________________________________________________________________________________________\n",
            "max_pooling2d_21 (MaxPooling2D) (None, 2, 2, 128)    0           batch_normalization_27[0][0]     \n",
            "__________________________________________________________________________________________________\n",
            "conv2d_108 (Conv2D)             (None, 2, 2, 512)    590336      max_pooling2d_21[0][0]           \n",
            "__________________________________________________________________________________________________\n",
            "average_pooling2d_4 (AveragePoo (None, 1, 1, 512)    0           conv2d_108[0][0]                 \n",
            "__________________________________________________________________________________________________\n",
            "flatten_4 (Flatten)             (None, 512)          0           average_pooling2d_4[0][0]        \n",
            "__________________________________________________________________________________________________\n",
            "dense_4 (Dense)                 (None, 3)            1539        flatten_4[0][0]                  \n",
            "==================================================================================================\n",
            "Total params: 1,427,331\n",
            "Trainable params: 1,426,563\n",
            "Non-trainable params: 768\n",
            "__________________________________________________________________________________________________\n",
            "None\n"
          ],
          "name": "stdout"
        },
        {
          "output_type": "execute_result",
          "data": {
            "image/png": "[encoded data removed]",
            "text/plain": [
              "<IPython.core.display.Image object>"
            ]
          },
          "metadata": {
            "tags": []
          },
          "execution_count": 90
        }
      ]
    },
    {
      "cell_type": "code",
      "metadata": {
        "id": "BgvXUZWvHZ_-",
        "colab_type": "code",
        "colab": {
          "base_uri": "https://localhost:8080/",
          "height": 84
        },
        "outputId": "77ba88f8-1388-4cf4-da43-3bfc28bfc345"
      },
      "source": [
        "print(X_train.shape)\n",
        "print(X_test.shape)\n",
        "print(Y_train.shape)\n",
        "print(Y_test.shape)"
      ],
      "execution_count": 91,
      "outputs": [
        {
          "output_type": "stream",
          "text": [
            "(1200, 20, 20, 3)\n",
            "(300, 20, 20, 3)\n",
            "(1200, 3)\n",
            "(300, 3)\n"
          ],
          "name": "stdout"
        }
      ]
    },
    {
      "cell_type": "code",
      "metadata": {
        "id": "wlEOWvwyCvUQ",
        "colab_type": "code",
        "colab": {
          "base_uri": "https://localhost:8080/",
          "height": 185
        },
        "outputId": "3347d9dc-d40f-4356-9ef8-cb06ebfe1bb2"
      },
      "source": [
        "from keras.optimizers import Adam\n",
        "opt = Adam(lr=0.001)\n",
        "model.compile(optimizer=opt, loss=keras.losses.categorical_crossentropy, metrics=['accuracy'])\n",
        "history = model.fit(x = X_train, y=Y_train, epochs = 5)"
      ],
      "execution_count": null,
      "outputs": [
        {
          "output_type": "stream",
          "text": [
            "Epoch 1/5\n",
            "38/38 [==============================] - 10s 274ms/step - loss: 0.6771 - accuracy: 0.7175\n",
            "Epoch 2/5\n",
            "38/38 [==============================] - 10s 275ms/step - loss: 0.5281 - accuracy: 0.7758\n",
            "Epoch 3/5\n",
            "38/38 [==============================] - 11s 277ms/step - loss: 0.4541 - accuracy: 0.8033\n",
            "Epoch 4/5\n",
            "38/38 [==============================] - 11s 277ms/step - loss: 0.4843 - accuracy: 0.7933\n",
            "Epoch 5/5\n",
            "27/38 [====================>.........] - ETA: 3s - loss: 0.5466 - accuracy: 0.7731"
          ],
          "name": "stdout"
        }
      ]
    },
    {
      "cell_type": "code",
      "metadata": {
        "id": "orR6bPnND0DQ",
        "colab_type": "code",
        "colab": {}
      },
      "source": [
        ""
      ],
      "execution_count": null,
      "outputs": []
    }
  ]
}